{
 "cells": [
  {
   "cell_type": "markdown",
   "metadata": {},
   "source": [
    "###Introduction to librat\n",
    "Librat is a freeware Monte Carlo Ray Tracing code, developed at UCL Geography. The code Copyright is held by UCL (Prof. P. Lewis and Dr. M. Disney), but is provided free of charge and unsupported for non-commercial use. For commercial use please contact Prof. P. Lewis.\n",
    "\n",
    "This set of Jupyter notebooks will take you through installation, running a few simple simulations, adding trees to the scene and ..."
   ]
  },
  {
   "cell_type": "code",
   "execution_count": null,
   "metadata": {
    "collapsed": true
   },
   "outputs": [],
   "source": []
  }
 ],
 "metadata": {
  "kernelspec": {
   "display_name": "Python 2",
   "language": "python",
   "name": "python2"
  },
  "language_info": {
   "codemirror_mode": {
    "name": "ipython",
    "version": 2
   },
   "file_extension": ".py",
   "mimetype": "text/x-python",
   "name": "python",
   "nbconvert_exporter": "python",
   "pygments_lexer": "ipython2",
   "version": "2.7.5"
  }
 },
 "nbformat": 4,
 "nbformat_minor": 0
}
