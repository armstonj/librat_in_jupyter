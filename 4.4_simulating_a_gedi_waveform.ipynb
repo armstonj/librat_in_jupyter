{
 "cells": [
  {
   "cell_type": "markdown",
   "metadata": {},
   "source": [
    "## 4.4 Simulating a GEDI waveform"
   ]
  },
  {
   "cell_type": "code",
   "execution_count": 1,
   "metadata": {
    "collapsed": true
   },
   "outputs": [],
   "source": [
    "from __future__ import print_function, division\n",
    "import os\n",
    "import numpy as np\n",
    "import matplotlib.pyplot as plt\n",
    "%matplotlib inline\n",
    "from run_start import *\n",
    "from hips import hips2img, hips2ani, read_header\n",
    "from scipy import constants\n",
    "from IPython.display import HTML"
   ]
  },
  {
   "cell_type": "code",
   "execution_count": 2,
   "metadata": {
    "collapsed": true
   },
   "outputs": [],
   "source": [
    "from generate_camera_file import update_existing_camera"
   ]
  },
  {
   "cell_type": "code",
   "execution_count": 3,
   "metadata": {},
   "outputs": [],
   "source": [
    "# here we can assume our scene units are ~metres, therefore we \n",
    "# need to convert our LiDAR pulse into m.\n",
    "\n",
    "gedi_fwhm = 15\n",
    "gedi_sigma = gedi_fwhm / (2 * np.sqrt(2 * np.log(2)))\n",
    "\n",
    "L = 1e-9 * constants.c # speed of light m/ns\n",
    "pl_ln = 60 * L # pulse length\n",
    "\n",
    "boomLength = 400000 # height of ISS illumination (and camera) in m\n",
    "footprint = 22 # diameter at exp(-2) of peak power (86% of energy)\n",
    "\n",
    "psf_sd = np.exp(1.5) #Gaussian footprint PSF SD is 5.5 but librat needs me to scale it to the footprint...\n",
    "\n",
    "update_existing_camera('light/pulse.lidar', 'light/large_footprint.lidar.gedi',\n",
    "                       new_options={'lidar.pulseStart':pl_ln/2.0,\n",
    "                                    'lidar.pulseForm':'gaussian',\n",
    "                                    'lidar.pulseSD':gedi_sigma,\n",
    "                                    'lidar.pulseLength':pl_ln,\n",
    "                                    'lidar.pulseOPFile':'light/gedi_pulse.dat',\n",
    "                                    'geometry.boomLength':boomLength,\n",
    "                                    'geometry.idealArea':footprint*2,\n",
    "                                    'samplingPattern.form':'gaussian',\n",
    "                                    'samplingPattern.size':[5000, 5000],\n",
    "                                    'samplingPattern.sd':[psf_sd, psf_sd],\n",
    "                                    'samplingPattern.centre':[2500, 2500],\n",
    "                                    'samplingPattern.OPImage':'light/gediGaussian.hips',\n",
    "                                    'samplingPattern.threshold':np.exp(-3)})"
   ]
  },
  {
   "cell_type": "markdown",
   "metadata": {},
   "source": [
    "We will also need to update the camera file, using the logic from the previous example: \n",
    "\n",
    "If our camera (<code>geometry.boomLength</code>) is 10 units and the top of the tree is at ~6 units then the minimum return distance is 8 units (<code>lidar.binStart</code>). If we set the <code>lidar.binStep</code> to .1 and the total round distance from illumination to ground to camera is 20 then we'll need to set <code>lidar.nBins</code> to $(20-8)/0.1$ "
   ]
  },
  {
   "cell_type": "code",
   "execution_count": null,
   "metadata": {
    "collapsed": true
   },
   "outputs": [],
   "source": [
    "oname='output/gedi_footprint' # geometry.idealArea = footprint\n",
    "hoc = 6 # height of canopy\n",
    "diff_camera_toc = boomLength - hoc\n",
    "binStart = diff_camera_toc * 2\n",
    "binStep = 0.15\n",
    "nBins = ((boomLength * 2) - binStart) / binStep + 60\n",
    "\n",
    "update_existing_camera('camera/pulse.lidar', 'camera/large_footprint.lidar.gedi',oname=oname,\n",
    "                       new_options={'geometry.idealArea':footprint*2,\n",
    "                                    'geometry.boomLength':boomLength,\n",
    "                                    'lidar.binStart':binStart,\n",
    "                                    'lidar.binStep':binStep,\n",
    "                                    'lidar.nBins':nBins})                                "
   ]
  },
  {
   "cell_type": "code",
   "execution_count": null,
   "metadata": {},
   "outputs": [],
   "source": [
    "# now we can run the simulation\n",
    "cmd = 'echo 14 camera/large_footprint.lidar.gedi light/large_footprint.lidar.gedi | \\\n",
    "       start -RATm 1 -RATsensor_wavebands wb/gedi_waveband.dat obj/shrubs.obj'\n",
    "error = run_start(cmd)   "
   ]
  },
  {
   "cell_type": "code",
   "execution_count": null,
   "metadata": {},
   "outputs": [],
   "source": [
    "# we can now visualise the pulsed waveform\n",
    "pulse = np.loadtxt('light/gedi_pulse.dat')\n",
    "bins = np.arange(-5000, 5000)[::int(10000/100)] # lidar.pulseLength sampled lidar.pulseSamples times\n",
    "plt.plot(bins, pulse)"
   ]
  },
  {
   "cell_type": "code",
   "execution_count": null,
   "metadata": {},
   "outputs": [],
   "source": [
    "# and the total reflectance image\n",
    "if not error:\n",
    "    ax = hips2img('{}.hips'.format(oname), stretch=False, order=None)"
   ]
  },
  {
   "cell_type": "code",
   "execution_count": null,
   "metadata": {},
   "outputs": [],
   "source": [
    "# and the animated waveform\n",
    "%matplotlib notebook\n",
    "if not error:\n",
    "    anim = hips2ani('{}.hips'.format(oname), imsave='gedi_waveform.mp4')\n",
    "    HTML(anim.to_html5_video())"
   ]
  },
  {
   "cell_type": "code",
   "execution_count": null,
   "metadata": {},
   "outputs": [],
   "source": [
    "# We can then look at the results of this by plotting\n",
    "# reflectance against bin number\n",
    "%matplotlib inline\n",
    "refl = np.loadtxt('output/gedi_footprint.dat.direct')\n",
    "plt.plot(refl[:, 0], refl[:, 1:].mean(axis=1))\n",
    "#plt.yscale('log') # because ground reflectance is high\n",
    "plt.xlabel('lidar.nBin')\n",
    "plt.ylabel('reflectance (log)')"
   ]
  },
  {
   "cell_type": "code",
   "execution_count": null,
   "metadata": {},
   "outputs": [],
   "source": [
    "# We can then view the PSF\n",
    "hips2img('light/gediGaussian.hips', order=[0])"
   ]
  },
  {
   "cell_type": "code",
   "execution_count": null,
   "metadata": {
    "collapsed": true
   },
   "outputs": [],
   "source": []
  }
 ],
 "metadata": {
  "anaconda-cloud": {},
  "kernelspec": {
   "display_name": "Python [conda root]",
   "language": "python",
   "name": "conda-root-py"
  },
  "language_info": {
   "codemirror_mode": {
    "name": "ipython",
    "version": 3
   },
   "file_extension": ".py",
   "mimetype": "text/x-python",
   "name": "python",
   "nbconvert_exporter": "python",
   "pygments_lexer": "ipython3",
   "version": "3.5.3"
  }
 },
 "nbformat": 4,
 "nbformat_minor": 1
}
