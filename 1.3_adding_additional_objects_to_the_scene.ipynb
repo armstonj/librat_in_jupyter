{
 "cells": [
  {
   "cell_type": "markdown",
   "metadata": {},
   "source": [
    "##1.3 Adding additional objects to the scene\n",
    "###Phil Wilkes (UCL/NCEO) <a href=mailto:p.wilkes@ucl.ac.uk>p.wilkes@ucl.ac.uk</a>\n",
    "This example follows on from <a href=\"1.2_simple_sphere_example.ipynb\">a simple sphere example</a>. This time we are going to add additional objects to our scene and also produce a colour image"
   ]
  },
  {
   "cell_type": "code",
   "execution_count": 1,
   "metadata": {
    "collapsed": true
   },
   "outputs": [],
   "source": [
    "import os"
   ]
  },
  {
   "cell_type": "markdown",
   "metadata": {},
   "source": [
    "##Adding additional objects to the <code><span style=\"background-color:lightgrey\">.obj</span></code> file\n",
    "In the last exmaple we there was a single sphere in the scene.  We can add more objects by updating the <code><span style=\"background-color:lightgrey\">.obj</span></code> file. Below is an example of a <code><span style=\"background-color:lightgrey\">.obj</span></code> file that includes a cylinder orientated perpendicular with the ground surface:\n",
    "\n",
    "<code>\n",
    "    !{\n",
    "    mtllib materials.matlib\n",
    "    v 0.000000 0.000000 0.000000\n",
    "    v 0.000000 0.000000 1.000000\n",
    "    usemtl soil\n",
    "    plane -1 -2 \n",
    "    !{ <span style=color:green><i># this is the ground this time using the soil material</i></span> \n",
    "    #define \n",
    "    g object 0\n",
    "    usemtl stem\n",
    "    v 0 0 0\n",
    "    v 0 0 1\n",
    "    cyl -1 -2 0.1\n",
    "    sph -1 0.2\n",
    "    v -1 0 1\n",
    "    cyl -1 -2 0.1\n",
    "    !}\n",
    "    !{\n",
    "    clone 0 0 0 0 object 0\n",
    "    clone 0 1 0 90 object 0\n",
    "    clone -1 0 0 -90 object 0\n",
    "    !}\n",
    "    !}\n",
    "</code>\n",
    "\n",
    "Note that comments can be added using #"
   ]
  },
  {
   "cell_type": "code",
   "execution_count": 24,
   "metadata": {
    "collapsed": false
   },
   "outputs": [
    {
     "data": {
      "image/png": "[encoded data removed]",
      "text/plain": [
       "<IPython.core.display.Image object>"
      ]
     },
     "execution_count": 24,
     "metadata": {},
     "output_type": "execute_result"
    }
   ],
   "source": [
    "cmd = \"echo 16 0 0 100 3 3 216 216 1 output/sac.hips | \\\n",
    "       start sphere_and_cylinder.obj\"\n",
    "os.system(cmd)\n",
    "\n",
    "cmd = \"linear < output/sac.hips | \\\n",
    "       hips2pbm > output/sac.pbm | \\\n",
    "       convert output/sac.pbm output/sac.png\"\n",
    "os.system(cmd)\n",
    "\n",
    "from IPython.display import Image \n",
    "Image(filename='output/sac.png')"
   ]
  }
 ],
 "metadata": {
  "kernelspec": {
   "display_name": "Python 2",
   "language": "python",
   "name": "python2"
  },
  "language_info": {
   "codemirror_mode": {
    "name": "ipython",
    "version": 2
   },
   "file_extension": ".py",
   "mimetype": "text/x-python",
   "name": "python",
   "nbconvert_exporter": "python",
   "pygments_lexer": "ipython2",
   "version": "2.7.5"
  }
 },
 "nbformat": 4,
 "nbformat_minor": 0
}
