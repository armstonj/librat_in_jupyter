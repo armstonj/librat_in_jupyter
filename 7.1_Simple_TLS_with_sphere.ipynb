{
 "cells": [
  {
   "cell_type": "markdown",
   "metadata": {},
   "source": [
    "## 7.1 Simple TLS with sphere"
   ]
  },
  {
   "cell_type": "code",
   "execution_count": null,
   "metadata": {
    "collapsed": true
   },
   "outputs": [],
   "source": [
    "import os\n",
    "import numpy as np\n",
    "import matplotlib.pyplot as plt\n",
    "%matplotlib inline\n",
    "from hips import hips2img, hipstats, read_hips\n",
    "from run_start import *"
   ]
  },
  {
   "cell_type": "markdown",
   "metadata": {},
   "source": [
    "### Arguments\n",
    "\n",
    "<code>tls</code> takes three sets of arguments and an object file, these are:\n",
    "\n",
    "<code><font color=red>tls</font> <font color=green>-origin X Y Z</font> <font color=orange>-theta start stop resolution</font> <font color=blue>-phi start stop resolution</font> <font color=grey>object.obj</font> > <font color=lightgreen>XYZ</font></code>\n",
    "\n",
    "<code><font color=red>tls</font></code> command to run TLS code\n",
    "\n",
    "<code><font color=green>-origin x y z</font></code> the <i>XYZ</i> position of the scanner appeture\n",
    "\n",
    "<code><font color=orange>-theta start stop resolution</font></code> domain which to scan over in zenith. Values are in degrees where 0 - 180 scans the full upper hemisphere. \n",
    "\n",
    "<code><font color=blue>-phi start stop resolution</font></code> domain which to scan over in azimuth.\n",
    "\n",
    "<code><font color=grey>object.obj</font></code> object file\n",
    "\n",
    "Other arguments can also be included such as <code>-rpp X</code> where <code>X</code> is the number of rays per scan angle. For each <code>x</code> in <code>X</code> the scan angle is jittered. \n",
    "\n",
    "<code><font color=lightgreen>XYZ</font></code> Output is an XYZ flat file"
   ]
  },
  {
   "cell_type": "raw",
   "metadata": {},
   "source": [
    "Here we use the lollipops-on-sticks.obj made in Section 1.3 to generate a scan"
   ]
  },
  {
   "cell_type": "code",
   "execution_count": null,
   "metadata": {
    "collapsed": false
   },
   "outputs": [],
   "source": [
    "%%bash\n",
    "export obj=obj/lollipops-on-sticks.obj\n",
    "export output=output/tls_test.dat\n",
    "tls/tls -origin -8 -8 1.5 -theta 0 180 1 -phi 0 360 1 -rpp 10 $obj > $output"
   ]
  },
  {
   "cell_type": "code",
   "execution_count": null,
   "metadata": {
    "collapsed": false
   },
   "outputs": [],
   "source": [
    "tree = np.loadtxt('output/tls_test.dat') # load in data\n",
    "\n",
    "plt.figure(figsize=(12, 5))\n",
    "\n",
    "plt.subplot(121)\n",
    "cbar = plt.scatter(tree[:, 0], tree[:, 1], c=tree[:, 2], edgecolor='none', s=1)\n",
    "plt.colorbar(cbar)\n",
    "plt.xlim(-40, 40)\n",
    "plt.ylim(-40, 40)\n",
    "plt.scatter(-8, -8, marker='+', s=100) # position of scanner\n",
    "\n",
    "plt.subplot(122)\n",
    "cbar = plt.scatter(tree[:, 0], tree[:, 2], c=tree[:, 2], edgecolor='none', s=1)\n",
    "plt.colorbar(cbar)\n",
    "plt.xlim(-40, 40)\n",
    "plt.ylim(0, 15)\n",
    "plt.scatter(-8, 1.5, marker='+', s=100)"
   ]
  }
 ],
 "metadata": {
  "kernelspec": {
   "display_name": "Python 2",
   "language": "python",
   "name": "python2"
  },
  "language_info": {
   "codemirror_mode": {
    "name": "ipython",
    "version": 2
   },
   "file_extension": ".py",
   "mimetype": "text/x-python",
   "name": "python",
   "nbconvert_exporter": "python",
   "pygments_lexer": "ipython2",
   "version": "2.7.12"
  }
 },
 "nbformat": 4,
 "nbformat_minor": 0
}
