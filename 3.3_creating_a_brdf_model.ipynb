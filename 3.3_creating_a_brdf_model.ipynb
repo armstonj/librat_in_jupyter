{
 "cells": [
  {
   "cell_type": "markdown",
   "metadata": {},
   "source": [
    "## 3.3 Creating a BRDF model"
   ]
  },
  {
   "cell_type": "code",
   "execution_count": 1,
   "metadata": {
    "collapsed": true
   },
   "outputs": [],
   "source": [
    "from __future__ import print_function, division\n",
    "import os\n",
    "import numpy as np\n",
    "import itertools\n",
    "import multiprocessing\n",
    "import ctypes\n",
    "import glob\n",
    "from run_start import *\n",
    "from generate_camera_file import *\n",
    "from plot_polar_contour import *\n",
    "%matplotlib inline"
   ]
  },
  {
   "cell_type": "markdown",
   "metadata": {},
   "source": [
    "## Method\n",
    "With each iteration the azimuth and zenith view angles are permeated through angles 0 - 360$^{\\circ}$ in 10$^{\\circ}$ steps and 5$^{\\circ}$ - 60$^{\\circ}$ in 5$^{\\circ}$ steps respectively.  The illumination azimuth and zenith angles are set to 90$^{\\circ}$ and 75$^{\\circ}$ repsectively in <code><span style=\"background-color:lightgrey\">light/brdf.light</span></code>.\n",
    "\n",
    "This code introduces a Python module that can construct a <code><span style=\"background-color:lightgrey\">*.camera</span></code> from a dictionary. "
   ]
  },
  {
   "cell_type": "code",
   "execution_count": 2,
   "metadata": {
    "collapsed": true
   },
   "outputs": [],
   "source": [
    "azimuth = np.arange(0, 370, 10)\n",
    "zenith = -np.arange(-60, 0, 5)\n",
    "coordinates = np.asarray(list(itertools.product(azimuth, zenith)))"
   ]
  },
  {
   "cell_type": "code",
   "execution_count": 3,
   "metadata": {},
   "outputs": [
    {
     "name": "stdout",
     "output_type": "stream",
     "text": [
      "this will run 444 tasks\n",
      "as each run takes ~1 min (on my mac) therefore whole process should take 0.37 hours\n"
     ]
    },
    {
     "ename": "FileNotFoundError",
     "evalue": "[Errno 2] No such file or directory: 'camera/brdf.90.camera'",
     "output_type": "error",
     "traceback": [
      "\u001b[0;31m---------------------------------------------------------------------------\u001b[0m",
      "\u001b[0;31mRemoteTraceback\u001b[0m                           Traceback (most recent call last)",
      "\u001b[0;31mRemoteTraceback\u001b[0m: \n\"\"\"\nTraceback (most recent call last):\n  File \"/home/armstonj/anaconda3/lib/python3.5/multiprocessing/pool.py\", line 119, in worker\n    result = (True, func(*args, **kwds))\n  File \"/home/armstonj/anaconda3/lib/python3.5/multiprocessing/pool.py\", line 44, in mapstar\n    return list(map(*args))\n  File \"<ipython-input-3-1b448cf031ef>\", line 33, in process_\n    os.unlink(camera_fname)\nFileNotFoundError: [Errno 2] No such file or directory: 'camera/brdf.90.camera'\n\"\"\"",
      "\nThe above exception was the direct cause of the following exception:\n",
      "\u001b[0;31mFileNotFoundError\u001b[0m                         Traceback (most recent call last)",
      "\u001b[0;32m<ipython-input-3-1b448cf031ef>\u001b[0m in \u001b[0;36m<module>\u001b[0;34m()\u001b[0m\n\u001b[1;32m     45\u001b[0m \u001b[0;34m\u001b[0m\u001b[0m\n\u001b[1;32m     46\u001b[0m     \u001b[0mpool\u001b[0m \u001b[0;34m=\u001b[0m \u001b[0mmultiprocessing\u001b[0m\u001b[0;34m.\u001b[0m\u001b[0mPool\u001b[0m\u001b[0;34m(\u001b[0m\u001b[0mprocesses\u001b[0m\u001b[0;34m=\u001b[0m\u001b[0mnumber_of_processes\u001b[0m\u001b[0;34m)\u001b[0m\u001b[0;34m\u001b[0m\u001b[0m\n\u001b[0;32m---> 47\u001b[0;31m     \u001b[0mpool\u001b[0m\u001b[0;34m.\u001b[0m\u001b[0mmap\u001b[0m\u001b[0;34m(\u001b[0m\u001b[0mprocess_\u001b[0m\u001b[0;34m,\u001b[0m \u001b[0;34m[\u001b[0m\u001b[0mi\u001b[0m \u001b[0;32mfor\u001b[0m \u001b[0mi\u001b[0m \u001b[0;32min\u001b[0m \u001b[0mrange\u001b[0m\u001b[0;34m(\u001b[0m\u001b[0mlen\u001b[0m\u001b[0;34m(\u001b[0m\u001b[0mshared_array\u001b[0m\u001b[0;34m)\u001b[0m\u001b[0;34m)\u001b[0m\u001b[0;34m]\u001b[0m\u001b[0;34m)\u001b[0m\u001b[0;34m\u001b[0m\u001b[0m\n\u001b[0m",
      "\u001b[0;32m/home/armstonj/anaconda3/lib/python3.5/multiprocessing/pool.py\u001b[0m in \u001b[0;36mmap\u001b[0;34m(self, func, iterable, chunksize)\u001b[0m\n\u001b[1;32m    258\u001b[0m         \u001b[0;32min\u001b[0m \u001b[0ma\u001b[0m \u001b[0mlist\u001b[0m \u001b[0mthat\u001b[0m \u001b[0;32mis\u001b[0m \u001b[0mreturned\u001b[0m\u001b[0;34m.\u001b[0m\u001b[0;34m\u001b[0m\u001b[0m\n\u001b[1;32m    259\u001b[0m         '''\n\u001b[0;32m--> 260\u001b[0;31m         \u001b[0;32mreturn\u001b[0m \u001b[0mself\u001b[0m\u001b[0;34m.\u001b[0m\u001b[0m_map_async\u001b[0m\u001b[0;34m(\u001b[0m\u001b[0mfunc\u001b[0m\u001b[0;34m,\u001b[0m \u001b[0miterable\u001b[0m\u001b[0;34m,\u001b[0m \u001b[0mmapstar\u001b[0m\u001b[0;34m,\u001b[0m \u001b[0mchunksize\u001b[0m\u001b[0;34m)\u001b[0m\u001b[0;34m.\u001b[0m\u001b[0mget\u001b[0m\u001b[0;34m(\u001b[0m\u001b[0;34m)\u001b[0m\u001b[0;34m\u001b[0m\u001b[0m\n\u001b[0m\u001b[1;32m    261\u001b[0m \u001b[0;34m\u001b[0m\u001b[0m\n\u001b[1;32m    262\u001b[0m     \u001b[0;32mdef\u001b[0m \u001b[0mstarmap\u001b[0m\u001b[0;34m(\u001b[0m\u001b[0mself\u001b[0m\u001b[0;34m,\u001b[0m \u001b[0mfunc\u001b[0m\u001b[0;34m,\u001b[0m \u001b[0miterable\u001b[0m\u001b[0;34m,\u001b[0m \u001b[0mchunksize\u001b[0m\u001b[0;34m=\u001b[0m\u001b[0;32mNone\u001b[0m\u001b[0;34m)\u001b[0m\u001b[0;34m:\u001b[0m\u001b[0;34m\u001b[0m\u001b[0m\n",
      "\u001b[0;32m/home/armstonj/anaconda3/lib/python3.5/multiprocessing/pool.py\u001b[0m in \u001b[0;36mget\u001b[0;34m(self, timeout)\u001b[0m\n\u001b[1;32m    606\u001b[0m             \u001b[0;32mreturn\u001b[0m \u001b[0mself\u001b[0m\u001b[0;34m.\u001b[0m\u001b[0m_value\u001b[0m\u001b[0;34m\u001b[0m\u001b[0m\n\u001b[1;32m    607\u001b[0m         \u001b[0;32melse\u001b[0m\u001b[0;34m:\u001b[0m\u001b[0;34m\u001b[0m\u001b[0m\n\u001b[0;32m--> 608\u001b[0;31m             \u001b[0;32mraise\u001b[0m \u001b[0mself\u001b[0m\u001b[0;34m.\u001b[0m\u001b[0m_value\u001b[0m\u001b[0;34m\u001b[0m\u001b[0m\n\u001b[0m\u001b[1;32m    609\u001b[0m \u001b[0;34m\u001b[0m\u001b[0m\n\u001b[1;32m    610\u001b[0m     \u001b[0;32mdef\u001b[0m \u001b[0m_set\u001b[0m\u001b[0;34m(\u001b[0m\u001b[0mself\u001b[0m\u001b[0;34m,\u001b[0m \u001b[0mi\u001b[0m\u001b[0;34m,\u001b[0m \u001b[0mobj\u001b[0m\u001b[0;34m)\u001b[0m\u001b[0;34m:\u001b[0m\u001b[0;34m\u001b[0m\u001b[0m\n",
      "\u001b[0;31mFileNotFoundError\u001b[0m: [Errno 2] No such file or directory: 'camera/brdf.90.camera'"
     ]
    }
   ],
   "source": [
    "# http://stackoverflow.com/questions/5549190/is-shared-readonly-data-copied-to-different-processes-for-python-multiprocessing/5550156#5550156\n",
    "\n",
    "shared_array_base = multiprocessing.Array(ctypes.c_double, len(coordinates) * 3)\n",
    "shared_array = np.ctypeslib.as_array(shared_array_base.get_obj())\n",
    "shared_array = shared_array.reshape(len(coordinates), 3)\n",
    "\n",
    "shared_array[:, :2] = coordinates\n",
    "\n",
    "def process_(i, def_param=shared_array):\n",
    "    \n",
    "    A = shared_array[i, 0]\n",
    "    Z = shared_array[i, 1]\n",
    "    \n",
    "    # create tmeporary camera file\n",
    "    camera_fname = 'camera/brdf.{}.camera'.format(i)\n",
    "    results_name = 'output/brdf.{}'.format(i)\n",
    "    camera(camera_fname,\n",
    "           geometry_options={'geometry.azimuth':A,\n",
    "                             'geometry.zenith':Z,\n",
    "                             'geometry.lookAt':[.2, 0, 5.36],\n",
    "                             'geometry.idealArea':1},\n",
    "           results_options={'oname':results_name},\n",
    "           remove=['result.image'], overwrite=True) # we don't need an image\n",
    "\n",
    "    # run simulation\n",
    "    cmd = \"echo 14 {} light/brdf_light.dat | \\\n",
    "           start -RATm 5 -RATsensor_wavebands wb/brdf_waveband.dat \\\n",
    "           obj/birch_tree_scene.obj\".format(camera_fname)\n",
    "    error = run_start(cmd)\n",
    "\n",
    "    # extract reflectance value\n",
    "    shared_array[i, 2] = np.loadtxt(results_name + '.results.direct')[:, 1].sum()\n",
    "    \n",
    "    # delete files\n",
    "    os.unlink(camera_fname)\n",
    "    os.unlink(results_name + '.results')\n",
    "    os.unlink(results_name + '.results.direct')\n",
    "    os.unlink(results_name + '.results.diffuse')\n",
    "\n",
    "if __name__ == '__main__':\n",
    "    \n",
    "    number_of_processes = 20\n",
    "    estimated_time = (len(shared_array) / number_of_processes) / 60.\n",
    "    \n",
    "    print('this will run {} tasks'.format(len(shared_array)))\n",
    "    print('as each run takes ~1 min (on my mac) therefore whole process should take {:.2f} hours'.format(estimated_time))\n",
    "\n",
    "    pool = multiprocessing.Pool(processes=number_of_processes)\n",
    "    pool.map(process_, [i for i in range(len(shared_array))])"
   ]
  },
  {
   "cell_type": "code",
   "execution_count": null,
   "metadata": {
    "collapsed": true
   },
   "outputs": [],
   "source": [
    "brdf_array = shared_array[:, 2].reshape(len(azimuth), len(zenith))"
   ]
  },
  {
   "cell_type": "code",
   "execution_count": null,
   "metadata": {
    "collapsed": true
   },
   "outputs": [],
   "source": [
    "plot_polar_contour(brdf_array, azimuth, zenith)"
   ]
  },
  {
   "cell_type": "code",
   "execution_count": null,
   "metadata": {
    "collapsed": true
   },
   "outputs": [],
   "source": []
  }
 ],
 "metadata": {
  "anaconda-cloud": {},
  "kernelspec": {
   "display_name": "Python [conda root]",
   "language": "python",
   "name": "conda-root-py"
  },
  "language_info": {
   "codemirror_mode": {
    "name": "ipython",
    "version": 3
   },
   "file_extension": ".py",
   "mimetype": "text/x-python",
   "name": "python",
   "nbconvert_exporter": "python",
   "pygments_lexer": "ipython3",
   "version": "3.5.3"
  }
 },
 "nbformat": 4,
 "nbformat_minor": 1
}
