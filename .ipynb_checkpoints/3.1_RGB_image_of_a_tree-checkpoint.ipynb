{
 "cells": [
  {
   "cell_type": "markdown",
   "metadata": {},
   "source": [
    "##3.1 RGB image of a tree\n",
    "In this section we will create an RGB image of a tree. By the end of this section you should produce an image like this.\n",
    "\n",
    "<img src=img/birch.op.png width=400>"
   ]
  },
  {
   "cell_type": "code",
   "execution_count": 9,
   "metadata": {
    "collapsed": true
   },
   "outputs": [],
   "source": [
    "import os\n",
    "import numpy as np\n",
    "import matplotlib.pyplot as plt\n",
    "%matplotlib inline\n",
    "from run_start import *\n",
    "from hips2img import *"
   ]
  },
  {
   "cell_type": "markdown",
   "metadata": {},
   "source": [
    "##Running start to create RGB image\n",
    "\n",
    "Below is an example of running a spectral simulation:\n",
    "\n",
    "<code>echo <font color=red>14</font> <font color=blue>camera.dat</font> <font color=green>light.dat</font> | <font color=brown>start</font> -v <font color=pink>-RATm 5</font> <font color=orange>-RATsensor_wavebands waveband.dat</font> birch_tree.obj</code>\n",
    "\n",
    "where:\n",
    "\n",
    "<code><font color=red>14</font></code> is the librat mode\n",
    "\n",
    "<code><font color=blue>camera.dat</font></code> points at the <code><span style=\"background-color:lightgrey\">camera.dat</span></code> file\n",
    "\n",
    "<code><font color=green>light.dat</font></code> points at the <code><span style=\"background-color:lightgrey\">light.dat</span></code> file\n",
    "\n",
    "This pipes to <font color=brown>start</font> running in verbose (-v) mode, <font color=brown>start</font> has the additional following options:\n",
    "\n",
    "<code><font color=pink>-RATm 5</font></code> stipulates the oder of scattering, in this case 5 orders.\n",
    "\n",
    "<code><font color=orange>-RATsensor_wavebands waveband.dat</font></code> points at a list of wavebands to simulate, these must correspond to wavelengths in the material reflectance files.\n",
    "\n",
    "<code>birch_tree.obj</code> points at the <code><span style=\"background-color:lightgrey\">birch_tree.obj</span></code>"
   ]
  },
  {
   "cell_type": "markdown",
   "metadata": {},
   "source": [
    "##Setting common in options in <code><span style=\"background-color:lightgrey\">camera.dat</span></code>\n",
    "Instead of setting options at the command line, they are now set in <code><span style=\"background-color:lightgrey\">camera.dat</span></code>.  Some of the most common settings are listed below."
   ]
  },
  {
   "cell_type": "code",
   "execution_count": 14,
   "metadata": {
    "collapsed": false
   },
   "outputs": [
    {
     "ename": "KeyboardInterrupt",
     "evalue": "",
     "output_type": "error",
     "traceback": [
      "\u001b[0;31m---------------------------------------------------------------------------\u001b[0m",
      "\u001b[0;31mKeyboardInterrupt\u001b[0m                         Traceback (most recent call last)",
      "\u001b[0;32m<ipython-input-14-9ff67941b596>\u001b[0m in \u001b[0;36m<module>\u001b[0;34m()\u001b[0m\n\u001b[1;32m      1\u001b[0m \u001b[0mcmd\u001b[0m \u001b[0;34m=\u001b[0m \u001b[0;34m'echo 14 camera/camera.dat light/light.dat |        start -v -RATm 5 -RATsensor_wavebands wb/waveband.dat obj/a_pair_of_birch_trees.obj'\u001b[0m\u001b[0;34m\u001b[0m\u001b[0m\n\u001b[0;32m----> 2\u001b[0;31m \u001b[0merror\u001b[0m \u001b[0;34m=\u001b[0m \u001b[0mrun_start\u001b[0m\u001b[0;34m(\u001b[0m\u001b[0mcmd\u001b[0m\u001b[0;34m)\u001b[0m\u001b[0;34m\u001b[0m\u001b[0m\n\u001b[0m\u001b[1;32m      3\u001b[0m \u001b[0;34m\u001b[0m\u001b[0m\n\u001b[1;32m      4\u001b[0m \u001b[0;32mif\u001b[0m \u001b[0;32mnot\u001b[0m \u001b[0merror\u001b[0m\u001b[0;34m:\u001b[0m\u001b[0;34m\u001b[0m\u001b[0m\n\u001b[1;32m      5\u001b[0m     \u001b[0;31m# if producing an RGB image use the 'stretch' arg otherwise\u001b[0m\u001b[0;34m\u001b[0m\u001b[0;34m\u001b[0m\u001b[0m\n",
      "\u001b[0;32m/Users/phil/Dropbox/RMIT/ipython/librat/run_start.pyc\u001b[0m in \u001b[0;36mrun_start\u001b[0;34m(cmd)\u001b[0m\n\u001b[1;32m     11\u001b[0m         \u001b[0merror\u001b[0m \u001b[0;34m=\u001b[0m \u001b[0mNone\u001b[0m\u001b[0;34m\u001b[0m\u001b[0m\n\u001b[1;32m     12\u001b[0m         \u001b[0;32mfor\u001b[0m \u001b[0mline\u001b[0m \u001b[0;32min\u001b[0m \u001b[0mstart_process\u001b[0m\u001b[0;34m.\u001b[0m\u001b[0mstderr\u001b[0m\u001b[0;34m:\u001b[0m\u001b[0;34m\u001b[0m\u001b[0m\n\u001b[0;32m---> 13\u001b[0;31m                 \u001b[0;32mprint\u001b[0m \u001b[0mline\u001b[0m\u001b[0;34m\u001b[0m\u001b[0m\n\u001b[0m\u001b[1;32m     14\u001b[0m         \u001b[0;32mif\u001b[0m \u001b[0mline\u001b[0m\u001b[0;34m.\u001b[0m\u001b[0mstartswith\u001b[0m\u001b[0;34m(\u001b[0m\u001b[0;34m'rat'\u001b[0m\u001b[0;34m)\u001b[0m\u001b[0;34m:\u001b[0m\u001b[0;34m\u001b[0m\u001b[0m\n\u001b[1;32m     15\u001b[0m                 \u001b[0merror\u001b[0m \u001b[0;34m=\u001b[0m \u001b[0mTrue\u001b[0m\u001b[0;34m\u001b[0m\u001b[0m\n",
      "\u001b[0;32m/Library/Python/2.7/site-packages/IPython/kernel/zmq/iostream.pyc\u001b[0m in \u001b[0;36mwrite\u001b[0;34m(self, string)\u001b[0m\n\u001b[1;32m    205\u001b[0m         \u001b[0;32mraise\u001b[0m \u001b[0mUnsupportedOperation\u001b[0m\u001b[0;34m(\u001b[0m\u001b[0;34m\"IOStream has no fileno.\"\u001b[0m\u001b[0;34m)\u001b[0m\u001b[0;34m\u001b[0m\u001b[0m\n\u001b[1;32m    206\u001b[0m \u001b[0;34m\u001b[0m\u001b[0m\n\u001b[0;32m--> 207\u001b[0;31m     \u001b[0;32mdef\u001b[0m \u001b[0mwrite\u001b[0m\u001b[0;34m(\u001b[0m\u001b[0mself\u001b[0m\u001b[0;34m,\u001b[0m \u001b[0mstring\u001b[0m\u001b[0;34m)\u001b[0m\u001b[0;34m:\u001b[0m\u001b[0;34m\u001b[0m\u001b[0m\n\u001b[0m\u001b[1;32m    208\u001b[0m         \u001b[0;32mif\u001b[0m \u001b[0mself\u001b[0m\u001b[0;34m.\u001b[0m\u001b[0mpub_socket\u001b[0m \u001b[0;32mis\u001b[0m \u001b[0mNone\u001b[0m\u001b[0;34m:\u001b[0m\u001b[0;34m\u001b[0m\u001b[0m\n\u001b[1;32m    209\u001b[0m             \u001b[0;32mraise\u001b[0m \u001b[0mValueError\u001b[0m\u001b[0;34m(\u001b[0m\u001b[0;34m'I/O operation on closed file'\u001b[0m\u001b[0;34m)\u001b[0m\u001b[0;34m\u001b[0m\u001b[0m\n",
      "\u001b[0;31mKeyboardInterrupt\u001b[0m: "
     ]
    }
   ],
   "source": [
    "cmd = 'echo 14 camera/camera.dat light/light.dat | \\\n",
    "       start -v -RATm 5 -RATsensor_wavebands wb/waveband.dat obj/birch_tree_scene.obj'\n",
    "error = run_start(cmd)\n",
    "\n",
    "if not error:\n",
    "    # if producing an RGB image use the 'stretch' arg otherwise\n",
    "    # image is dark\n",
    "    hips2img('output/birch.op.hips', stretch=True)"
   ]
  },
  {
   "cell_type": "markdown",
   "metadata": {},
   "source": [
    "##Creating a spectra from the output"
   ]
  },
  {
   "cell_type": "code",
   "execution_count": 8,
   "metadata": {
    "collapsed": false
   },
   "outputs": [
    {
     "data": {
      "text/plain": [
       "<matplotlib.text.Text at 0x10f064bd0>"
      ]
     },
     "execution_count": 8,
     "metadata": {},
     "output_type": "execute_result"
    },
    {
     "data": {
      "image/png": "[encoded data removed]",
      "text/plain": [
       "<matplotlib.figure.Figure at 0x10f06eed0>"
      ]
     },
     "metadata": {},
     "output_type": "display_data"
    }
   ],
   "source": [
    "spectra = np.loadtxt('output/birch.op.results.direct')\n",
    "wb = np.loadtxt('waveband.dat')\n",
    "plt.plot(wb[:, 1], spectra[:, 1:].sum(axis=0))\n",
    "plt.xlabel('wavelength')\n",
    "plt.ylabel('relfectance')"
   ]
  }
 ],
 "metadata": {
  "kernelspec": {
   "display_name": "Python 2",
   "language": "python",
   "name": "python2"
  },
  "language_info": {
   "codemirror_mode": {
    "name": "ipython",
    "version": 2
   },
   "file_extension": ".py",
   "mimetype": "text/x-python",
   "name": "python",
   "nbconvert_exporter": "python",
   "pygments_lexer": "ipython2",
   "version": "2.7.5"
  }
 },
 "nbformat": 4,
 "nbformat_minor": 0
}
