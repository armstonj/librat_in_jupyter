{
 "cells": [
  {
   "cell_type": "markdown",
   "metadata": {},
   "source": [
    "##3.0 Mode 14: running spectral simulations\n",
    "To run spectral simulations we need to add a <code><span style=\"background-color:lightgrey\">camera.dat</span></code> and a <code><span style=\"background-color:lightgrey\">light.dat</span></code> file. "
   ]
  },
  {
   "cell_type": "markdown",
   "metadata": {},
   "source": [
    "##<code><span style=\"background-color:lightgrey\">camera.dat</span></code>\n",
    "This file can be used to simulate both spectral and lidar images\n",
    "\n",
    "<code>\n",
    "    camera {\n",
    "    #camera type - others are spherical, planar, albedo\n",
    "    camera.name = \"simple camera\";\n",
    "    #default is orthographic\n",
    "    geometry.perspective = TRUE;\n",
    "\n",
    "    #geometry\n",
    "    geometry.azimuth = 0.0;\n",
    "    geometry.zenith = 0.0;\n",
    "    geometry.twist = 0.0;\n",
    "    geometry.lookAt = 0, 0, 0;\n",
    "    geometry.boomLength = 10.;\n",
    "    geometry.idealArea = 5;\n",
    "    #geometry.fieldOfView = FOV;\n",
    "    geometry.boomLength = 10.;\n",
    "    samplingCharacteristics.nPixels = 262144;\n",
    "    samplingCharacteristics.rpp = 4;\n",
    "\n",
    "    #basic o/p\n",
    "    result.integral.mode = \"scattering order\"\n",
    "    result.integral.format = \"ascii\"\n",
    "    #result.integral.mode = \"waveband\"\n",
    "    result.image = \"op.hips\"\n",
    "    result.integral = \"op.results\"\n",
    "\n",
    "    #sampling options\n",
    "    #result.samplingImage = \"samplingImage.hips\"\n",
    "    #samplingPattern.OPImage = \"testOPImage.hips\"\n",
    "    #samplingPattern.sampleCountImage = \"testsampleCountImage.hips\"\n",
    "    #samplingPattern.gridMap = \"testgridMap.hips\"\n",
    "    #samplingPattern.size = 512,512;\n",
    "    #samplingPattern.form = \"circular\"\n",
    "    #samplingPattern.form = \"gaussian\"\n",
    "    #samplingPattern.sd = 50,50;\n",
    "    #samplingPattern.centre = 0,0;\n",
    "\n",
    "    #lidar options\n",
    "    #result.integral = \"results_lidar.dat\"\n",
    "    #result.integral.mode = \"distance\"\n",
    "    #lidar.nBins = 150\n",
    "    #lidar.binStart = 17.6\n",
    "    #lidar.binStep = 0.1\n",
    "    }\n",
    "</code>"
   ]
  },
  {
   "cell_type": "markdown",
   "metadata": {},
   "source": [
    "##<code><span style=\"background-color:lightgrey\">light.dat</span></code>\n",
    "<code>\n",
    "    camera {\n",
    "    camera.name = \"simple illumination\";\n",
    "    geometry.azimuth = 0.0;\n",
    "    geometry.zenith = 0.0;\n",
    "    }\n",
    "</code>"
   ]
  },
  {
   "cell_type": "code",
   "execution_count": null,
   "metadata": {
    "collapsed": true
   },
   "outputs": [],
   "source": []
  }
 ],
 "metadata": {
  "kernelspec": {
   "display_name": "Python 2",
   "language": "python",
   "name": "python2"
  },
  "language_info": {
   "codemirror_mode": {
    "name": "ipython",
    "version": 2
   },
   "file_extension": ".py",
   "mimetype": "text/x-python",
   "name": "python",
   "nbconvert_exporter": "python",
   "pygments_lexer": "ipython2",
   "version": "2.7.5"
  }
 },
 "nbformat": 4,
 "nbformat_minor": 0
}
