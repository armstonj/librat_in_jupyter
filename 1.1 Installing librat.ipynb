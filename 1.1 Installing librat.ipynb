{
 "cells": [
  {
   "cell_type": "markdown",
   "metadata": {},
   "source": [
    "##1.1 Installing librat\n",
    "###Phil Wilkes (UCL/NCEO) <a href=mailto:p.wilkes@ucl.ac.uk>p.wilkes@ucl.ac.uk</a>\n",
    "\n",
    "This tutorial runs through the basics of running librat.  Material is taken from <a href=https://librat.wikispaces.com/>librat wikispace</a>\n",
    "<p>Librat is usually run from the command line, but to make things clearer, easier to run and more interactive, this is Jupyter work book uses Python to call librat using the subprocess function."
   ]
  },
  {
   "cell_type": "markdown",
   "metadata": {},
   "source": [
    "##Prerequisites\n",
    "Imagemajick which is available <a href"
   ]
  },
  {
   "cell_type": "markdown",
   "metadata": {},
   "source": [
    "Installing librat can be done on unix-like operating system (tested on Solaris, various linux, Mac OS X, etc.). <b>Librat will not install on a Windows OS</b>. To install librat download the <a href=http://www2.geog.ucl.ac.uk/~plewis/librat/configure>configure script</a>.  Then change the permission to make it an executable, this is done on the command line,\n",
    "<code><span style=\"background-color:lightgrey\">\n",
    "chmod +x configure\n",
    "</span></code>\n",
    "\n",
    "Install librat with;\n",
    "<code><span style=\"background-color:lightgrey\">\n",
    "./configure\n",
    "</span></code>"
   ]
  },
  {
   "cell_type": "markdown",
   "metadata": {},
   "source": [
    "There are also a few environment variables that need to be updated:\n",
    "<code><span style=\"background-color:lightgrey\">\n",
    "export BPMS=${HOME}/bpms\n",
    "export PATH=$BPMS/bin/x86_64:$BPMS/bin/csh:$PATH\n",
    "</span></code>\n",
    "\n",
    "For Mac users:\n",
    "<code><span style=\"background-color:lightgrey\">\n",
    "export DYLD_LIBRARY_PATH=${BPMS}/src/lib\n",
    "</span></code>\n",
    "\n",
    "For Linux ueser:\n",
    "<code><span style=\"background-color:lightgrey\">\n",
    "export LD_LIBRARY_PATH=${BPMS}/src/lib\n",
    "</span></code>\n",
    "\n",
    "These can be added to your <code><span style=\"background-color:lightgrey\">.bash_profile</span></code> or <code><span style=\"background-color:lightgrey\">.bashrc</span></code>.  For this iPython session now we can run this below."
   ]
  },
  {
   "cell_type": "code",
   "execution_count": 3,
   "metadata": {
    "collapsed": false
   },
   "outputs": [],
   "source": [
    "import platform\n",
    "import os\n",
    "\n",
    "os.environ['BPMS'] = os.path.join(os.path.expanduser(\"~\"), 'bpms')\n",
    "os.environ['PATH'] += os.path.join(os.environ['BPMS'], 'bin/x86_64')\n",
    "os.environ['PATH'] += os.path.join(os.environ['BPMS'], 'bin/csh')\n",
    "\n",
    "if platform.system() == 'Darwin': # A Mac:\n",
    "    os.environ['DYLD_LIBRARY_PATH'] = os.path.join(os.environ['BPMS'], 'src/lib')\n",
    "else:\n",
    "    os.environ['LD_LIBRARY_PATH'] = os.path.join(os.environ['BPMS'], 'src/lib')"
   ]
  },
  {
   "cell_type": "markdown",
   "metadata": {},
   "source": [
    "We are now ready to test if librat is working"
   ]
  },
  {
   "cell_type": "code",
   "execution_count": 10,
   "metadata": {
    "collapsed": false
   },
   "outputs": [
    {
     "name": "stdout",
     "output_type": "stream",
     "text": [
      "BPMS environment variable set to /Users/phil/bpms\n",
      "this result\n",
      "===========\n",
      "RTD 0\n",
      "order: 0\tintersection point:\t0.000000 0.000000 1.000010\n",
      "ray length:\t\t98.999990\n",
      "intersection material:\t6\n",
      "sun 0:\t\t\t1 reflectance\n",
      "lengthToSun: 9.000000 angleToSun 0.000000\n",
      "direct:\t\t\t0.000000e+00 0.000000e+00 0.000000e+00 1.000000e+00 1.000000e+00 1.000000e+00 1.000000e+00\n",
      "sky  :\t\t\treflectance\n",
      "diffuse:\t\t0.000000e+00 0.000000e+00 0.000000e+00 1.000000e+00 1.000000e+00 1.000000e+00 1.000000e+00\n",
      "wavebands: 0.000000 1.000000 2.000000 3.000000 4.000000 5.000000 6.000000\n",
      "x: -0.499900 0.500100\n",
      "y: -19.996000 20.004000\n",
      "z: -0.999800 1.000200\n",
      "bbox centre @ 0.000100 0.004000 0.000200\n",
      "diff of file:\n",
      "=============\n"
     ]
    }
   ],
   "source": [
    "# this is an inbulit simple test we can run...\n",
    "import subprocess\n",
    "os.chdir(os.path.join(os.environ['BPMS'], 'src/start/src/lib/src/start'))\n",
    "stdout = subprocess.Popen('./testMe', stdout=subprocess.PIPE)\n",
    "for line in stdout.stdout:\n",
    "    print line.strip()"
   ]
  },
  {
   "cell_type": "markdown",
   "metadata": {},
   "source": [
    "If the output above looks like this:\n",
    "\n",
    "<code>\n",
    "this result\n",
    "<code>===========</code>\n",
    "RTD 0\n",
    "order: 0\tintersection point:\t0.000000 0.000000 1.000010\n",
    "ray length:\t\t98.999990\n",
    "intersection material:\t6\n",
    "sun 0:\t\t\t1 reflectance\n",
    "lengthToSun: 9.000000 angleToSun 0.000000\n",
    "direct:\t\t\t0.000000e+00 0.000000e+00 0.000000e+00 1.000000e+00 1.000000e+00 1.000000e+00 1.000000e+00\n",
    "sky  :\t\t\treflectance\n",
    "diffuse:\t\t0.000000e+00 0.000000e+00 0.000000e+00 1.000000e+00 1.000000e+00 1.000000e+00 1.000000e+00\n",
    "wavebands: 0.000000 1.000000 2.000000 3.000000 4.000000 5.000000 6.000000\n",
    "x: -0.499900 0.500100\n",
    "y: -19.996000 20.004000\n",
    "z: -0.999800 1.000200\n",
    "bbox centre @ 0.000100 0.004000 0.000200\n",
    "diff of file:\n",
    "=============</code>\n",
    "\n",
    "Then librat has been installed correctly"
   ]
  },
  {
   "cell_type": "code",
   "execution_count": null,
   "metadata": {
    "collapsed": true
   },
   "outputs": [],
   "source": []
  },
  {
   "cell_type": "markdown",
   "metadata": {},
   "source": [
    "Librat can be run from the command line - here are some <a href=http://librat.wikispaces.com/Basic+examples>basic examples</a> - luckily though <a href=mailto:https://www.researchgate.net/profile/John_Armston2>John Armston</a> has created some useful Python functions that call librat. These can be downloaded from <a href=http://librat.wikispaces.com/Tools>here</a>.\n",
    "\n",
    "To call these functions after downloading, you will need to modify your environment variables by adding the location of the tools to the PYTHONPATH variable. In Linux this is done by\n",
    "\n",
    "<code>export PYTHONPATH=/path/to/librat/tools:$PYTHONPATH</code>\n",
    "\n",
    "You can then..."
   ]
  },
  {
   "cell_type": "code",
   "execution_count": 4,
   "metadata": {
    "collapsed": false
   },
   "outputs": [],
   "source": [
    "from librattools import lidarsurvey\n"
   ]
  },
  {
   "cell_type": "code",
   "execution_count": 6,
   "metadata": {
    "collapsed": true
   },
   "outputs": [],
   "source": [
    "lidarsurvey.terrestrialConfig()"
   ]
  },
  {
   "cell_type": "code",
   "execution_count": 5,
   "metadata": {
    "collapsed": false
   },
   "outputs": [
    {
     "data": {
      "text/plain": [
       "'/Users/phil/FLIGHT75'"
      ]
     },
     "execution_count": 5,
     "metadata": {},
     "output_type": "execute_result"
    }
   ],
   "source": [
    "os.environ['PYTHONPATH']"
   ]
  },
  {
   "cell_type": "code",
   "execution_count": 8,
   "metadata": {
    "collapsed": false
   },
   "outputs": [],
   "source": [
    "sys.path.append('/Users/phil/Dropbox/UCL/librat/librattools-0.1')"
   ]
  },
  {
   "cell_type": "code",
   "execution_count": null,
   "metadata": {
    "collapsed": true
   },
   "outputs": [],
   "source": []
  }
 ],
 "metadata": {
  "kernelspec": {
   "display_name": "Python 2",
   "language": "python",
   "name": "python2"
  },
  "language_info": {
   "codemirror_mode": {
    "name": "ipython",
    "version": 2
   },
   "file_extension": ".py",
   "mimetype": "text/x-python",
   "name": "python",
   "nbconvert_exporter": "python",
   "pygments_lexer": "ipython2",
   "version": "2.7.5"
  }
 },
 "nbformat": 4,
 "nbformat_minor": 0
}
