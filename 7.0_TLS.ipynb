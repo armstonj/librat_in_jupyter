{
 "cells": [
  {
   "cell_type": "markdown",
   "metadata": {},
   "source": [
    "## 7.0 TLS\n",
    "This section will introduce simulating TLS using librat\n",
    "\n",
    "This uses Mat D's C code which needs to be compiled first, run the below bash code to achieve this. The tls source code is the <code><span style=\"background-color: lightgrey\">tls</span></code> directory"
   ]
  },
  {
   "cell_type": "code",
   "execution_count": 9,
   "metadata": {
    "collapsed": false
   },
   "outputs": [
    {
     "name": "stdout",
     "output_type": "stream",
     "text": [
      "make clean tls \n",
      "rm -f *% *.o\n",
      "gcc -I/Developer/SDKs/MacOSX10.6.sdk/usr/include -I/usr/5include -Dx86_64 -DDOUBLEDEF  -DMATCHK -Dx86_64 -D_NO_NAG -O -I/Users/phil/bpms/src/lib -o tls.o -c tls.c \n",
      "gcc -DDOUBLEDEF  -DMATCHK -Dx86_64 -D_NO_NAG -O -L/Developer/SDKs/MacOSX10.6.sdk/usr/lib -L/Users/phil/bpms/src/lib -L. -L/Users/phil/bpms/src/lib tls.o -o tls -lmatrix_x86_64 -lalloc_x86_64 -lvect_x86_64 -lerr_x86_64 -lhipl_x86_64 -lrand_x86_64 -limage_x86_64 -lrat_x86_64  -lm -lc \n"
     ]
    },
    {
     "name": "stderr",
     "output_type": "stream",
     "text": [
      "tls.c:180:3: warning: implicit declaration of function 'RATputImage' is invalid in C99 [-Wimplicit-function-declaration]\n",
      "                RATputImage(info->opimage,opbuf,info->thetaSteps,info->phiSteps,1,IMAGE_FLOAT);\n",
      "                ^\n",
      "tls.c:201:22: warning: implicit conversion from 'double' to 'int' changes value from 0.1 to 0 [-Wliteral-conversion]\n",
      "  info->thetaSteps = 0.1;\n",
      "                   ~ ^~~\n",
      "tls.c:202:20: warning: implicit conversion from 'double' to 'int' changes value from 0.1 to 0 [-Wliteral-conversion]\n",
      "  info->phiSteps = 0.1;\n",
      "                 ~ ^~~\n",
      "3 warnings generated.\n",
      "ld: warning: directory not found for option '-L/Developer/SDKs/MacOSX10.6.sdk/usr/lib'\n"
     ]
    }
   ],
   "source": [
    "%%bash\n",
    "cd tls\n",
    "make"
   ]
  }
 ],
 "metadata": {
  "kernelspec": {
   "display_name": "Python 2",
   "language": "python",
   "name": "python2"
  },
  "language_info": {
   "codemirror_mode": {
    "name": "ipython",
    "version": 2
   },
   "file_extension": ".py",
   "mimetype": "text/x-python",
   "name": "python",
   "nbconvert_exporter": "python",
   "pygments_lexer": "ipython2",
   "version": "2.7.12"
  }
 },
 "nbformat": 4,
 "nbformat_minor": 0
}
