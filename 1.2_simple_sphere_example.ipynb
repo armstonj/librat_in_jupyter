{
 "cells": [
  {
   "cell_type": "markdown",
   "metadata": {},
   "source": [
    "## 1.2 A sphere example\n",
    "\n",
    "This example follows on from the <a href=\"1.1_installing_librat.ipynb\">installation of librat</a> and assumes you have librat up and running.\n",
    "\n",
    "Here we are going to create height map looking down on a sphere. When you've finished you should produce an image that looks something like this.\n",
    "\n",
    "<img src=img/sphere.png width=400>"
   ]
  },
  {
   "cell_type": "code",
   "execution_count": 1,
   "metadata": {
    "collapsed": true
   },
   "outputs": [],
   "source": [
    "from __future__ import print_function, division\n",
    "import os\n",
    "import platform\n",
    "from run_start import *\n",
    "from hips import hips2img\n",
    "%matplotlib inline"
   ]
  },
  {
   "cell_type": "code",
   "execution_count": 3,
   "metadata": {
    "collapsed": true
   },
   "outputs": [],
   "source": [
    "# Just in case you haven't already added neccessary variables to environment variables\n",
    "if 'BPMS' not in os.environ.keys():\n",
    "    os.environ['BPMS'] = os.path.join(os.path.expanduser(\"~\"), 'bpms')\n",
    "    os.environ['PATH'] += ':' + os.path.join(os.environ['BPMS'], 'bin/x86_64')\n",
    "    os.environ['PATH'] += ':' + os.path.join(os.environ['BPMS'], 'bin/csh')\n",
    "    if platform.system() == 'Darwin': # A Mac:\n",
    "        os.environ['DYLD_LIBRARY_PATH'] = os.path.join(os.environ['BPMS'], 'src/lib')\n",
    "    else:\n",
    "        os.environ['LD_LIBRARY_PATH'] = os.path.join(os.environ['BPMS'], 'src/lib')"
   ]
  },
  {
   "cell_type": "markdown",
   "metadata": {},
   "source": [
    "## Files required to run librat\n",
    "\n",
    "Librat requires a series of ASCII files to run (more details are provided in the next section):\n",
    "- a <code>.obj</code> file.  This contains the scene geometry (e.g. ground, leaf, etc.) and references to the \"materials\" used to model the scene elements.  For the below example the object is called <code><span style=\"background-color: lightgrey\">obj/sphere.obj</span></code>.\n",
    "- a <code>.matllib</code> file that contains the relfectance values of the \"materials\" you want to represent in the scene (see next section for more details).  This can also contain relative paths to ASCII files with the reflectance/transmittance values.  All values used here are referenced in a single file called <code><span style=\"background-color: lightgrey\">materials.mattlib</span></code>.\n",
    "- a <code>.camera</code> file that specifies the characteristics of the camera.\n",
    "- a <code>.light</code> file that specifies the characteristics of the illumination source.</p>\n",
    "\n",
    "<p>The latter two are not required for generating simple height maps and are introduced in <a href=3.0_mode_14_running_spectral_simulations.ipynb>Section 3</a>."
   ]
  },
  {
   "cell_type": "markdown",
   "metadata": {},
   "source": [
    "## Running librat from a terminal\n",
    "As explained previously, librat is normally run from a terminal using commands such as:  \n",
    "\n",
    "<p><code>echo <font color=red>16</font> <font color=blue>0 0 100000</font> <font color=green>200000 200000</font> <font color='pink'>512 512</font> <font color=black>1</font> <font color=orange>heightmap.hips</font> | <font color=brown>start</font> <font color=lightgreen>sphere.obj</font></code></p> \n",
    "\n",
    "where:\n",
    "\n",
    "<code>echo</code> is required to PIPE the commands to <code><font color=brown>start</font></code>\n",
    "\n",
    "<code><font color=red>16</font></code> is the librat running option, the ones we are mostly concerned with are <code><font color=red>16</font></code> (basic height map simualtions) and <code><font color=red>14</font></code> (spectral and lidar simulations - more on these in Section 3). \n",
    "\n",
    "When librat is ran using mode <code><font color=red>16</font></code>, the other command line variables are:\n",
    "\n",
    "<code><font color=blue>0 0 100000</font></code> the x, y, z location of the camera \n",
    "\n",
    "<code><font color=green>200000 200000</font></code> the x, y area of the scene\n",
    "\n",
    "<code><font color='pink'>512 512</font></code> output image resolution\n",
    "\n",
    "<code><font color=black>1</font></code> number of rays per pixel\n",
    "\n",
    "<code><font color=orange>heightmap.hips </font></code> output image filename ( <code><span style=\"background-color: lightgrey\">.hips</span></code> format)\n",
    "\n",
    "This is then piped to:\n",
    "\n",
    "<code><font color=brown>start</font></code> which is the command that runs librat, there are some extra options which will be introduced later\n",
    "\n",
    "<code><font color=lightgreen>sphere.obj</font></code> is the <code><span style=\"background-color: lightgrey\">.obj</span></code> file that contains references to the spectral material and the scene geometry\n",
    "\n",
    "For these example we are going to call librat from with in Python, the syntax of the commands is the same though."
   ]
  },
  {
   "cell_type": "code",
   "execution_count": 4,
   "metadata": {},
   "outputs": [
    {
     "name": "stdout",
     "output_type": "stream",
     "text": [
      "echo 16 0 0 100000 200000 200000 512 512 1 output/sphere.hips | start obj/sphere.obj\n"
     ]
    },
    {
     "name": "stderr",
     "output_type": "stream",
     "text": [
      "IOPub data rate exceeded.\n",
      "The notebook server will temporarily stop sending output\n",
      "to the client in order to avoid crashing it.\n",
      "To change this limit, set the config variable\n",
      "`--NotebookApp.iopub_data_rate_limit`.\n"
     ]
    },
    {
     "data": {
      "image/png": "[encoded data removed]",
      "text/plain": [
       "<matplotlib.figure.Figure at 0x7fcf0d41a9b0>"
      ]
     },
     "metadata": {},
     "output_type": "display_data"
    }
   ],
   "source": [
    "# the cmd is exactly what you type into the command line\n",
    "cmd = \"echo 16 0 0 100000 200000 200000 512 512 1 output/sphere.hips | start obj/sphere.obj\"\n",
    "print(cmd)\n",
    "error = run_start(cmd)\n",
    "\n",
    "# if there is an error this will appear as text below\n",
    "if not error:\n",
    "    hips2img('output/sphere.hips', order=[0], stretch=False)\n",
    "\n",
    "# now try changing the x, y or z values or other variables"
   ]
  },
  {
   "cell_type": "code",
   "execution_count": null,
   "metadata": {
    "collapsed": true
   },
   "outputs": [],
   "source": []
  }
 ],
 "metadata": {
  "anaconda-cloud": {},
  "kernelspec": {
   "display_name": "Python [conda root]",
   "language": "python",
   "name": "conda-root-py"
  },
  "language_info": {
   "codemirror_mode": {
    "name": "ipython",
    "version": 3
   },
   "file_extension": ".py",
   "mimetype": "text/x-python",
   "name": "python",
   "nbconvert_exporter": "python",
   "pygments_lexer": "ipython3",
   "version": "3.5.3"
  }
 },
 "nbformat": 4,
 "nbformat_minor": 1
}
